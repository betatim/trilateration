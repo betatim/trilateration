{
 "cells": [
  {
   "cell_type": "markdown",
   "metadata": {},
   "source": [
    "# Trilateration: Analysis\n",
    "\n",
    "Given a set of RTT samples annotated by probe and anchor ID, and metadata about anchors including location, determine the linear fit between \n",
    "\n",
    "### Needful things\n",
    "\n",
    "First, imports, utility functions, etc. required for analysis, and thaw out the datastore"
   ]
  },
  {
   "cell_type": "code",
   "execution_count": null,
   "metadata": {
    "collapsed": true
   },
   "outputs": [],
   "source": [
    "%matplotlib inline\n",
    "\n",
    "import pandas as pd\n",
    "import matplotlib.pyplot as plt\n",
    "import numpy as np\n",
    "import scipy.stats\n",
    "import math\n",
    "\n",
    "from collections import namedtuple"
   ]
  },
  {
   "cell_type": "code",
   "execution_count": null,
   "metadata": {
    "collapsed": true
   },
   "outputs": [],
   "source": [
    "with pd.HDFStore('rtt.h5') as store:\n",
    "    anchor_df = store['anchor_df']\n",
    "    probe_df = store['probe_df']\n",
    "    rtt_df = store['rtt_df']"
   ]
  },
  {
   "cell_type": "markdown",
   "metadata": {},
   "source": [
    "Calculate minumum RTT per anchor/probe pair, then join anchor and probe location to this dataframe"
   ]
  },
  {
   "cell_type": "code",
   "execution_count": null,
   "metadata": {
    "collapsed": true
   },
   "outputs": [],
   "source": [
    "min_df = pd.DataFrame({'minrtt': rtt_df.groupby(['aid','pid'])['rtt'].min()})\n",
    "loc_by_aid = anchor_df.loc[:,('lon','lat')]\n",
    "loc_by_aid.columns = ['alon','alat']\n",
    "loc_by_pid = probe_df.loc[:,('lon','lat')]\n",
    "loc_by_pid.columns = ['plon','plat']\n",
    "min_df = loc_by_pid.join(loc_by_aid.join(min_df, how=\"inner\"), how=\"inner\")"
   ]
  },
  {
   "cell_type": "markdown",
   "metadata": {},
   "source": [
    "Now calculate distance with a vectorization of the unit sphere distance algorithm."
   ]
  },
  {
   "cell_type": "code",
   "execution_count": null,
   "metadata": {
    "collapsed": true
   },
   "outputs": [],
   "source": [
    "min_df['tmp_aphi'] = (90.0 - min_df['alat']) * math.pi/180.0\n",
    "min_df['tmp_pphi'] = (90.0 - min_df['plat']) * math.pi/180.0\n",
    "min_df['tmp_atheta'] = min_df['alon'] * math.pi/180.0\n",
    "min_df['tmp_ptheta'] = min_df['plon'] * math.pi/180.0\n",
    "min_df['tmp_cos'] = ( np.sin(min_df['tmp_aphi']) * np.sin(min_df['tmp_pphi']) * \n",
    "                      np.cos(min_df['tmp_atheta'] - min_df['tmp_ptheta']) + \n",
    "                      np.cos(min_df['tmp_aphi']) * np.cos(min_df['tmp_pphi']) )\n",
    "min_df['km'] = np.arccos(min_df['tmp_cos']) * 6371\n",
    "del min_df['tmp_aphi']\n",
    "del min_df['tmp_pphi']\n",
    "del min_df['tmp_atheta']\n",
    "del min_df['tmp_ptheta']\n",
    "del min_df['tmp_cos']"
   ]
  },
  {
   "cell_type": "markdown",
   "metadata": {},
   "source": [
    "### Trilateration\n",
    "\n",
    "Given three points and distances, estimate a location."
   ]
  },
  {
   "cell_type": "code",
   "execution_count": null,
   "metadata": {
    "collapsed": true
   },
   "outputs": [],
   "source": [
    "def on_unit_sphere(long1, lat1, long2, lat2):\n",
    " \n",
    "    # Convert latitude and longitude to \n",
    "    # spherical coordinates in radians.\n",
    "    degrees_to_radians = math.pi/180.0\n",
    "         \n",
    "    # phi = 90 - latitude\n",
    "    phi1 = (90.0 - lat1)*degrees_to_radians\n",
    "    phi2 = (90.0 - lat2)*degrees_to_radians\n",
    "         \n",
    "    # theta = longitude\n",
    "    theta1 = long1*degrees_to_radians\n",
    "    theta2 = long2*degrees_to_radians\n",
    "         \n",
    "    # Compute spherical distance from spherical coordinates.\n",
    "         \n",
    "    # For two locations in spherical coordinates \n",
    "    # (1, theta, phi) and (1, theta', phi')\n",
    "    # cosine( arc length ) = \n",
    "    #    sin phi sin phi' cos(theta-theta') + cos phi cos phi'\n",
    "    # distance = rho * arc length\n",
    "     \n",
    "    cos = (math.sin(phi1)*math.sin(phi2)*math.cos(theta1 - theta2) + \n",
    "           math.cos(phi1)*math.cos(phi2))\n",
    "    arc = math.acos( cos )\n",
    " \n",
    "    return arc\n",
    "\n",
    "def earth_surface_km(long1, lat1, long2, lat2):\n",
    "    # Remember to multiply arc by the radius of the earth \n",
    "    # in your favorite set of units to get length.\n",
    "    return on_unit_sphere(lat1, long1, lat2, long2) * 6371\n",
    "\n",
    "def trilaterate(lonA, latA, distA, lonB, latB, distB, lonC, latC, distC):\n",
    "    \"\"\"\n",
    "    Given three latitudes, longitudes, and distances, \n",
    "    estimate a point by trilateration. \n",
    "    \n",
    "    Assumes a spherical Earth of radius 6371 km, and all elevations 0.\n",
    "    \n",
    "    Shamelessly stolen from https://gis.stackexchange.com/questions/66/trilateration-using-3-latitude-and-longitude-points-and-3-distances\n",
    "    \"\"\"\n",
    "\n",
    "    #assuming elevation = 0\n",
    "    earthR = 6371\n",
    "\n",
    "    #using authalic sphere\n",
    "    #if using an ellipsoid this step is slightly different\n",
    "    #Convert geodetic Lat/Long to ECEF xyz\n",
    "    #   1. Convert Lat/Long to radians\n",
    "    #   2. Convert Lat/Long(radians) to ECEF\n",
    "    xA = earthR *(math.cos(math.radians(latA)) * math.cos(math.radians(lonA)))\n",
    "    yA = earthR *(math.cos(math.radians(latA)) * math.sin(math.radians(lonA)))\n",
    "    zA = earthR *(math.sin(math.radians(latA)))\n",
    "\n",
    "    xB = earthR *(math.cos(math.radians(latB)) * math.cos(math.radians(lonB)))\n",
    "    yB = earthR *(math.cos(math.radians(latB)) * math.sin(math.radians(lonB)))\n",
    "    zB = earthR *(math.sin(math.radians(latB)))\n",
    "\n",
    "    xC = earthR *(math.cos(math.radians(latC)) * math.cos(math.radians(lonC)))\n",
    "    yC = earthR *(math.cos(math.radians(latC)) * math.sin(math.radians(lonC)))\n",
    "    zC = earthR *(math.sin(math.radians(latC)))\n",
    "\n",
    "    P1 = np.array([xA, yA, zA])\n",
    "    P2 = np.array([xB, yB, zB])\n",
    "    P3 = np.array([xC, yC, zC])\n",
    "\n",
    "    #from wikipedia\n",
    "    #transform to get circle 1 at origin\n",
    "    #transform to get circle 2 on x axis\n",
    "    ex = (P2 - P1)/(np.linalg.norm(P2 - P1))\n",
    "    i = np.dot(ex, P3 - P1)\n",
    "    ey = (P3 - P1 - i*ex)/(np.linalg.norm(P3 - P1 - i*ex))\n",
    "    ez = np.cross(ex, ey)\n",
    "    d = np.linalg.norm(P2 - P1)\n",
    "    j = np.dot(ey, P3 - P1)\n",
    "\n",
    "    #from wikipedia\n",
    "    #plug and chug using above values\n",
    "    x = (pow(distA,2) - pow(distB,2) + pow(d,2))/(2*d)\n",
    "    y = ((pow(distA,2) - pow(distC,2) + pow(i,2) + pow(j,2))/(2*j)) - ((i/j)*x)\n",
    "\n",
    "    # only one case shown here\n",
    "    z = np.sqrt(pow(distA,2) - pow(x,2) - pow(y,2))\n",
    "\n",
    "    #triPt is an array with ECEF x,y,z of trilateration point\n",
    "    triPt = P1 + x*ex + y*ey + z*ez\n",
    "\n",
    "    lat = math.degrees(math.asin(triPt[2] / earthR))\n",
    "    lon = math.degrees(math.atan2(triPt[1],triPt[0]))\n",
    "\n",
    "    return (lon, lat)\n",
    "\n",
    "def dist_km(minrtt_us):\n",
    "    \"\"\"\n",
    "    A function to estimate the distance in kilometers given a minimum RTT in microseconds.\n",
    "    \n",
    "    For now, do this very simply: multiply the speed of light in \n",
    "    kilometers per microsecond by a factor and RTT/2\n",
    "    \"\"\"\n",
    "    \n",
    "    c = 0.299792458\n",
    "    linfit_factor = 0.37 # derived from linear fit of Atlas RTT data\n",
    "    \n",
    "    return (minrtt_us * c * linfit_factor) / 2"
   ]
  },
  {
   "cell_type": "code",
   "execution_count": null,
   "metadata": {
    "collapsed": true
   },
   "outputs": [],
   "source": [
    "fast_min_df = min_df[min_df['minrtt'] < 40000]\n",
    "\n",
    "for i in range(100):\n",
    "    A = fast_min_df.iloc[i]\n",
    "    B = fast_min_df.iloc[i+1]\n",
    "    C = fast_min_df.iloc[i+2]\n",
    "    \n",
    "    if A.name[0] == B.name[0] == C.name [0]:\n",
    "        try:\n",
    "            (xalon, xalat) = trilaterate(A.plon, A.plat, dist_km(A.minrtt), \n",
    "                                         B.plon, B.plat, dist_km(B.minrtt), \n",
    "                                         C.plon, C.plat, dist_km(C.minrtt))\n",
    "            print(\"error: {}\".format(earth_surface_km(xalon, xalat, A.alon, A.alat)))\n",
    "        except ValueError:\n",
    "            pass\n",
    "        "
   ]
  }
 ],
 "metadata": {
  "kernelspec": {
   "display_name": "Python 3",
   "language": "python",
   "name": "python3"
  },
  "language_info": {
   "codemirror_mode": {
    "name": "ipython",
    "version": 3
   },
   "file_extension": ".py",
   "mimetype": "text/x-python",
   "name": "python",
   "nbconvert_exporter": "python",
   "pygments_lexer": "ipython3",
   "version": "3.6.2"
  }
 },
 "nbformat": 4,
 "nbformat_minor": 2
}
