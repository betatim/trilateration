{
 "cells": [
  {
   "cell_type": "raw",
   "metadata": {},
   "source": [
    "<!-- \n",
    "  Taken from Chris Said's blog post on the same subject.\n",
    "  See http://chris-said.io/2016/02/13/\n",
    "  how-to-make-polished-jupyter-presentations-with-optional-code-visibility/ \n",
    "-->\n",
    "\n",
    "<script>\n",
    "  function code_toggle() {\n",
    "    if (code_shown){\n",
    "      $('div.input').hide('500');\n",
    "      $('#toggleButton').val('Show Code')\n",
    "    } else {\n",
    "      $('div.input').show('500');\n",
    "      $('#toggleButton').val('Hide Code')\n",
    "    }\n",
    "    code_shown = !code_shown\n",
    "  } \n",
    "  \n",
    "  $( document ).ready(function(){\n",
    "    code_shown=false; \n",
    "    $('div.input').hide()\n",
    "  });\n",
    "</script>\n",
    "<form action=\"javascript:code_toggle()\"><input type=\"submit\" id=\"toggleButton\" value=\"Show Code\"></form>"
   ]
  },
  {
   "cell_type": "markdown",
   "metadata": {},
   "source": [
    "# The Geoprivacy Implications of RTT Measurement Data\n",
    "\n",
    "**Author: Brian Trammell <brian@trammell.ch>**\n",
    "\n",
    "**Revision of** *7 November 2018*; latest revision is [here](https://nbviewer.jupyter.org/github/britram/trilateration/blob/master/paper.ipynb)\n",
    "\n",
    "***Abstract***\n",
    "\n",
    "abstract goes here\n",
    "\n"
   ]
  },
  {
   "cell_type": "markdown",
   "metadata": {},
   "source": [
    "# Introduction\n",
    "\n",
    "*what we look at, and why...*\n",
    "\n",
    "This paper is derived from the [original trilateration notebook](https://github.com/britram/trilateration/blob/rev1/paper.ipynb) developed for the QUIC RTT Design Team in August 20178, as well as Trammell, B., and Kühlewind, M., [\"Revisiting the Privacy Implications of two-way Internet Latency Data\"](https://github.com/mami-project/rtt-privacy-paper), in the proceedings of the 2018 Passive and Active Measurement Conference, Berlin, March 2018. It updates the methodology slightly, bases its discussion on a different and newer subset of the RIPE Atlas anchoring measurements."
   ]
  },
  {
   "cell_type": "markdown",
   "metadata": {},
   "source": [
    "## The Components of Round-Trip Time\n",
    "\n",
    "\n",
    "We begin with an examination of the components of end-to-end latency as can be\n",
    "observed at either endpoint of a transport-layer connection, the sender of an\n",
    "ICMP Echo Request, or the observer of a TCP flow with full information about\n",
    "sequence and acknowledgment numbers and timestamps in both directions of a\n",
    "flow. This observable RTT $RTT_{obs}$ is given by the equation below,\n",
    "for $f$ hops in one direction and $r$ hops in the opposite direction, where\n",
    "$D_{prop}$ is propagation delay on a link, $D_{queue}$ is queueing delay at a\n",
    "forwarding node, $D_{proc}$ is processing delay at a forwarding node,\n",
    "$D_{stack}$ is stack delay at the remote endpoint (the time it takes for a\n",
    "packet to make it from the network interface to the application and back,\n",
    "including acknowledgment delay~\\cite{Ding15} when traffic is unidirectional),\n",
    "and $D_{app}$ is application delay at that endpoint.\n",
    "\n",
    "\\begin{equation}\n",
    "    \\begin{split}\n",
    "        RTT_{obs} = \\sum_{n=0}^f(D_{prop_{n \\rightarrow n+1}} + D_{queue_n} + D_{proc_n}) + \\\\\n",
    "        \\sum_{m=0}^r(D_{prop_{m \\rightarrow m+1}} + D_{queue_m} + D_{proc_m}) + \\\\\n",
    "         D_{stack} + D_{app}\n",
    "    \\end{split}\n",
    "\\end{equation}\n",
    "\n",
    "This equation illustrates the confounding effect of end-to-end RTT\n",
    "measurement, which we will explore in more detail later. Each potential threat\n",
    "to privacy uses only one component of delay measured in the observable RTT,\n",
    "but all components are mixed together in a given RTT sample. The challenge in\n",
    "exploiting this information is then to reduce the irrelevant components to a\n",
    "known constant. For example, in the geolocation case, the desired RTT would be\n",
    "(a) perfectly symmetric and (b) made up of only propagation delay (c) in a\n",
    "straight line between endpoints, which would allow a distance measurement as\n",
    "in the equation below, where $kc$ is the speed of light in the\n",
    "Internet, assuming a known and constant factor for refraction in optical fiber\n",
    "and/or propagation in other physical media. $dist$ is an inequality because\n",
    "even in an ideal case (c) does not hold: the light path following the great\n",
    "circle between two points and the light path actually followed by physical\n",
    "Internet infrastructure differ.\n",
    "\n",
    "<a id=\"eq-dist\"></a>\n",
    "\n",
    "\\begin{equation}\n",
    "    dist < kc \\frac{\\sum_{n=0}^fD_{prop_{n \\rightarrow n+1}} + \\sum_{m=0}^rD_{prop_{m \\rightarrow m+1}}}{2}\n",
    "\\end{equation}\n",
    "                        \n",
    "\n",
    "\n",
    "On the flip side, if light distance could be known, and processing and queueing\n",
    "delay were zero, these terms could be subtracted out from yielding only stack\n",
    "and application delay, turning RTT observations into load observations as in\n",
    "the following equation:\n",
    "\n",
    "\\begin{equation}\n",
    "    load \\propto D_{stack} + D_{app}\n",
    "\\end{equation}\n",
    "\n",
    "The utility of RTT measurements to various geolocation and activity\n",
    "fingerprinting tasks, then, is directly related to the separability of these\n",
    "terms. This is the question we address in the rest of this work.\n"
   ]
  },
  {
   "cell_type": "markdown",
   "metadata": {},
   "source": [
    "# Methodology\n",
    "\n",
    "In this work, we focus on the relationship between round-trip-time and distance, in an attempt to characterize and quantify the *geoprivacy risk* associated with a given collection of RTT data; in other words, the probability that said data could be used to produce or refine an estimate of the location of an Internet endpoint with unknown location, and the maximum resolution of that estimate.\n",
    "\n",
    "In other words, we reconsider the problem of using Internet latency measurements for geolocation, but consider this problem to be the *attacker's* problem. This problem has been well-considered in the literature: *[EDITOR'S NOTE: link citations from the PAM paper here]*.\n",
    "\n",
    "Our methodology assumes that our input is access to RTT data between an endpoint with a known location, and an endpoint with an unknown location, and our output is an estimate of the location of the unknown endpoint. This would be the case, for example with passively-measured RTT between an access network and a content-delivery network, for example, where the location of the particular CDN endpoint can be assumed to reasonably high resolution given an understanding of how the CDN distributes and assigns names and addresses to its front-end servers.\n",
    "\n",
    "The most useful approach to geolocation from latency measurements is *exclusion*: given a measurements from a known point toward an unknown point, the unknown point cannot be outside a sphere of radius $r$ equal to the distance given by the [second equation](#eq-dist) above. Taking a series of RTT measurements, and taking the minimum of these to minimize $D_{queue}$ and $D_{proc}$ in each direction, gives \n",
    "\n",
    "\\begin{equation}\n",
    "    r < kc\\frac{min(RTT_n)}{2}\n",
    "\\end{equation}\n",
    "\n",
    "(where $\\frac{RTT}{2}$ represents the maximum one-way delay a given RTT can represent).\n",
    "\n",
    "By intersecting the spheres around multiple known points, then intersecting that intersected volume with the surface of the Earth, where most endpoints are presumed to be, the region within which the unknown endpoint can be narrowed down.\n",
    "\n",
    "To validate the utility of RTT data for this methodology, we need a source of RTT data covering a relatively diverse set of Internet paths where the locations of both endpoints are known with some precision; we turn to [RIPE Atlas](https://atlas.ripe.net) for this data."
   ]
  },
  {
   "cell_type": "markdown",
   "metadata": {},
   "source": [
    "## Data Sources\n",
    "\n"
   ]
  },
  {
   "cell_type": "markdown",
   "metadata": {},
   "source": [
    "RIPE Atlas periodically takes *anchoring measurements...*"
   ]
  },
  {
   "cell_type": "code",
   "execution_count": 2,
   "metadata": {},
   "outputs": [],
   "source": [
    "# Add code here to retrieve or prepare data from source, if appropriate.\n",
    "# Alternately, data preparation can be done in a separate notebook, linked from here."
   ]
  },
  {
   "cell_type": "markdown",
   "metadata": {},
   "source": [
    "# Analysis and Findings\n",
    "\n",
    "data analysis results, plots, tables, etc go here."
   ]
  },
  {
   "cell_type": "code",
   "execution_count": 3,
   "metadata": {},
   "outputs": [],
   "source": [
    "# code for plots and tables etc. goes here"
   ]
  },
  {
   "cell_type": "markdown",
   "metadata": {},
   "source": [
    "# Conclusions\n",
    "\n",
    "conclusions go here"
   ]
  },
  {
   "cell_type": "raw",
   "metadata": {},
   "source": [
    "<script>\n",
    "  $(document).ready(function(){\n",
    "    $('div.prompt').hide();\n",
    "    $('div.back-to-top').hide();\n",
    "    $('nav#menubar').hide();\n",
    "    $('.breadcrumb').hide();\n",
    "    $('.hidden-print').hide();\n",
    "  });\n",
    "</script>\n",
    "\n",
    "<footer id=\"attribution\" style=\"float:right; color:#999; background:#fff;\">\n",
    "A <a href=\"https://github.com/hyperpaper/\">Continuously Collabortative Community Publication</a>, powered by <a href=\"https://jupyter.org/>Jupyter</a>\n",
    "</footer>"
   ]
  }
 ],
 "metadata": {
  "kernelspec": {
   "display_name": "Python 3",
   "language": "python",
   "name": "python3"
  },
  "language_info": {
   "codemirror_mode": {
    "name": "ipython",
    "version": 3
   },
   "file_extension": ".py",
   "mimetype": "text/x-python",
   "name": "python",
   "nbconvert_exporter": "python",
   "pygments_lexer": "ipython3",
   "version": "3.7.0"
  }
 },
 "nbformat": 4,
 "nbformat_minor": 1
}
